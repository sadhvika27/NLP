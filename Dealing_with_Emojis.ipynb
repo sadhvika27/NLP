{
 "cells": [
  {
   "cell_type": "code",
   "execution_count": 39,
   "id": "ea1f4daa-55bd-4ae0-bd3e-1a130e967186",
   "metadata": {},
   "outputs": [
    {
     "name": "stdout",
     "output_type": "stream",
     "text": [
      "Requirement already satisfied: emot in c:\\users\\tirur\\anaconda3\\lib\\site-packages (3.1)\n"
     ]
    }
   ],
   "source": [
    "!pip install emot"
   ]
  },
  {
   "cell_type": "code",
   "execution_count": 41,
   "id": "76ba2b49-3d29-4c5d-b1d5-4249d2de7520",
   "metadata": {},
   "outputs": [],
   "source": [
    "#create sample text data with emoji\n",
    "\n",
    "text1 = \"What are you saying 😂. I am the boss 😎 , and why are you so 😏 \""
   ]
  },
  {
   "cell_type": "code",
   "execution_count": null,
   "id": "a6f35a8f-55e4-4369-91d6-68c465b82699",
   "metadata": {},
   "outputs": [],
   "source": [
    "https://emojijoy.com/\n",
    "\n",
    "https://unicode.org/emoji/charts/full-emoji-list.html\n",
    "\n",
    "https://apps.timwhitlock.info/emoji/tables/unicode\n",
    "\n",
    "Windows+. -> display emoji"
   ]
  },
  {
   "cell_type": "code",
   "execution_count": 43,
   "id": "74f908b4-e4b3-4d92-bcb4-f5eb1e5ed485",
   "metadata": {},
   "outputs": [],
   "source": [
    "import re\n",
    "\n",
    "from emot.emo_unicode import UNICODE_EMOJI\n",
    "\n",
    "from emot.emo_unicode import EMOTICONS_EMO"
   ]
  },
  {
   "cell_type": "code",
   "execution_count": 45,
   "id": "4a50f5e2-77f0-4c7b-9d66-2498f81e5189",
   "metadata": {},
   "outputs": [
    {
     "data": {
      "text/plain": [
       "'What are you saying face_with_tears_of_joy. I am the boss smiling_face_with_sunglasses , and why are you so smirking_face '"
      ]
     },
     "execution_count": 45,
     "metadata": {},
     "output_type": "execute_result"
    }
   ],
   "source": [
    "# Function for converting emojis into word\n",
    "\n",
    "def converting_emojis(text):\n",
    "\n",
    "    for emot in UNICODE_EMOJI:\n",
    "\n",
    "        text = text.replace(emot, \"_\".join(UNICODE_EMOJI[emot].replace(\",\",\"\")\\\n",
    "\n",
    "                                           .replace(\":\",\"\").split()))\n",
    "\n",
    "    return text\n",
    "\n",
    " \n",
    "\n",
    "converting_emojis(text1)"
   ]
  },
  {
   "cell_type": "code",
   "execution_count": 53,
   "id": "5404b6c6-e691-476f-9385-561addf2d2e8",
   "metadata": {},
   "outputs": [
    {
     "data": {
      "text/plain": [
       "'What are you saying . I am the boss  , and why are you so  '"
      ]
     },
     "execution_count": 53,
     "metadata": {},
     "output_type": "execute_result"
    }
   ],
   "source": [
    "def emoji_removal(string):\n",
    "\n",
    "    emoji_unicodes = re.compile(\"[\"\n",
    "\n",
    "                               u\"\\U0001F600-\\U0001F64F\"  # emoticons\n",
    "\n",
    "                               u\"\\U0001F300-\\U0001F5FF\"  # symbols \n",
    "\n",
    "                               u\"\\U0001F680-\\U0001F6FF\"  # transport \n",
    "\n",
    "                               u\"\\U0001F1E0-\\U0001F1FF\"  # flags (iOS)\n",
    "\n",
    "                               u\"\\U00002500-\\U00002BEF\"  \n",
    "\n",
    "                               u\"\\U00002702-\\U000027B0\"\n",
    "\n",
    "                               u\"\\U000024C2-\\U0001F251\"\n",
    "\n",
    "                               u\"\\U0001f926-\\U0001f937\"\n",
    "\n",
    "                               u\"\\U00010000-\\U0010ffff\"\n",
    "                                u\"\\u2640-\\u2642\"\n",
    "\n",
    "                               u\"\\u2600-\\u2B55\"\n",
    "\n",
    "                               u\"\\u200d\"\n",
    "\n",
    "                               u\"\\u23cf\"\n",
    "\n",
    "                               u\"\\u23e9\"\n",
    "\n",
    "                               u\"\\u231a\"\n",
    "\n",
    "                               u\"\\ufe0f\"  \n",
    "\n",
    "                               u\"\\u3030\"\n",
    "\n",
    "                               \"]+\", flags=re.UNICODE)\n",
    "\n",
    "    return emoji_unicodes.sub(r'', string)\n",
    "\n",
    "emoji_removal(text1)"
   ]
  },
  {
   "cell_type": "code",
   "execution_count": null,
   "id": "efb1433f-a332-46c9-b51e-f4e71bd80a58",
   "metadata": {},
   "outputs": [],
   "source": [
    "sent = [\"What are you saying 😂. I am the boss 😎 , and why are you so 😏 \"]\n",
    "import pandas as pd\n",
    "df = pd.DataFrame({'text':sent})\n",
    "df.head"
   ]
  }
 ],
 "metadata": {
  "kernelspec": {
   "display_name": "Python 3 (ipykernel)",
   "language": "python",
   "name": "python3"
  },
  "language_info": {
   "codemirror_mode": {
    "name": "ipython",
    "version": 3
   },
   "file_extension": ".py",
   "mimetype": "text/x-python",
   "name": "python",
   "nbconvert_exporter": "python",
   "pygments_lexer": "ipython3",
   "version": "3.12.7"
  }
 },
 "nbformat": 4,
 "nbformat_minor": 5
}
