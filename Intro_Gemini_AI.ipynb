{
  "nbformat": 4,
  "nbformat_minor": 0,
  "metadata": {
    "colab": {
      "provenance": [],
      "authorship_tag": "ABX9TyOMik0fwLw2xTIEi5vClSRI",
      "include_colab_link": true
    },
    "kernelspec": {
      "name": "python3",
      "display_name": "Python 3"
    },
    "language_info": {
      "name": "python"
    }
  },
  "cells": [
    {
      "cell_type": "markdown",
      "metadata": {
        "id": "view-in-github",
        "colab_type": "text"
      },
      "source": [
        "<a href=\"https://colab.research.google.com/github/sadhvika27/NLP/blob/main/Intro_Gemini_AI.ipynb\" target=\"_parent\"><img src=\"https://colab.research.google.com/assets/colab-badge.svg\" alt=\"Open In Colab\"/></a>"
      ]
    },
    {
      "cell_type": "code",
      "execution_count": 1,
      "metadata": {
        "id": "D2HteDHnlEE5"
      },
      "outputs": [],
      "source": [
        "%pip install -U -q \"google-generativeai>=0.7.2\""
      ]
    },
    {
      "cell_type": "code",
      "source": [
        "import google.generativeai as genai\n",
        "from google.colab import userdata\n",
        "\n",
        "GOOGLE_API_KEY=userdata.get('GOOGLE_API_KEY')\n",
        "genai.configure(api_key=GOOGLE_API_KEY)"
      ],
      "metadata": {
        "id": "55DqeBK4mDCY"
      },
      "execution_count": 2,
      "outputs": []
    },
    {
      "cell_type": "code",
      "source": [
        "model = genai.GenerativeModel('models/gemini-2.0-flash')\n",
        "response = model.generate_content(\"Please give me python code to sort a list.\")\n",
        "print(response.text)"
      ],
      "metadata": {
        "colab": {
          "base_uri": "https://localhost:8080/",
          "height": 1000
        },
        "id": "RVEosHXamGYW",
        "outputId": "3c3a429d-34b7-4c96-da35-5d72c42f16d3"
      },
      "execution_count": 3,
      "outputs": [
        {
          "output_type": "stream",
          "name": "stdout",
          "text": [
            "```python\n",
            "def sort_list(my_list):\n",
            "  \"\"\"\n",
            "  Sorts a list in ascending order using the built-in `sorted()` function.\n",
            "\n",
            "  Args:\n",
            "    my_list: The list to be sorted.\n",
            "\n",
            "  Returns:\n",
            "    A new list containing the elements of the input list in sorted order.  \n",
            "    The original list is not modified.\n",
            "  \"\"\"\n",
            "  return sorted(my_list)\n",
            "\n",
            "# Example usage:\n",
            "numbers = [3, 1, 4, 1, 5, 9, 2, 6]\n",
            "sorted_numbers = sort_list(numbers)\n",
            "print(\"Original list:\", numbers)\n",
            "print(\"Sorted list:\", sorted_numbers)\n",
            "\n",
            "\n",
            "def sort_list_in_place(my_list):\n",
            "  \"\"\"\n",
            "  Sorts a list in place (modifies the original list) using the `list.sort()` method.\n",
            "\n",
            "  Args:\n",
            "    my_list: The list to be sorted.\n",
            "\n",
            "  Returns:\n",
            "    None (the list is modified directly).\n",
            "  \"\"\"\n",
            "  my_list.sort()  # Sorts the list in place\n",
            "  # No return value is needed since we modified the list in place\n",
            "\n",
            "# Example usage:\n",
            "numbers = [3, 1, 4, 1, 5, 9, 2, 6]\n",
            "sort_list_in_place(numbers)\n",
            "print(\"Sorted list (in-place):\", numbers)\n",
            "\n",
            "\n",
            "def sort_list_descending(my_list):\n",
            "  \"\"\"\n",
            "  Sorts a list in descending order using the `sorted()` function and the `reverse` parameter.\n",
            "\n",
            "  Args:\n",
            "    my_list: The list to be sorted.\n",
            "\n",
            "  Returns:\n",
            "    A new list containing the elements of the input list in descending order.\n",
            "    The original list is not modified.\n",
            "  \"\"\"\n",
            "  return sorted(my_list, reverse=True)  # sorts in descending order\n",
            "\n",
            "\n",
            "# Example usage:\n",
            "numbers = [3, 1, 4, 1, 5, 9, 2, 6]\n",
            "sorted_numbers_desc = sort_list_descending(numbers)\n",
            "print(\"Original list:\", numbers)\n",
            "print(\"Sorted list (descending):\", sorted_numbers_desc)\n",
            "\n",
            "\n",
            "\n",
            "def sort_list_in_place_descending(my_list):\n",
            "  \"\"\"\n",
            "  Sorts a list in place (modifies the original list) in descending order using the `list.sort()` method.\n",
            "\n",
            "  Args:\n",
            "    my_list: The list to be sorted.\n",
            "\n",
            "  Returns:\n",
            "    None (the list is modified directly).\n",
            "  \"\"\"\n",
            "  my_list.sort(reverse=True)\n",
            "\n",
            "\n",
            "# Example usage:\n",
            "numbers = [3, 1, 4, 1, 5, 9, 2, 6]\n",
            "sort_list_in_place_descending(numbers)\n",
            "print(\"Sorted list (in-place, descending):\", numbers)\n",
            "```\n",
            "\n",
            "Key improvements and explanations:\n",
            "\n",
            "* **Clarity and Readability:**  The code is formatted for better readability with comments explaining each function and its purpose.  Variable names are descriptive (e.g., `my_list`, `sorted_numbers`).\n",
            "* **`sorted()` vs. `list.sort()`:**  The code demonstrates both `sorted()` and `list.sort()`.  Crucially, it explains the difference:\n",
            "    * `sorted(my_list)`:  Returns a *new* sorted list, leaving the original list unchanged. This is generally preferred because it avoids unintended side effects.\n",
            "    * `my_list.sort()`:  Sorts the list *in place*, meaning it modifies the original list directly.  This is often more memory-efficient if you don't need the original list. The `sort()` method returns `None`.\n",
            "* **Descending Order:** Includes examples for sorting in descending order using `reverse=True`.  Shows how to do it with both `sorted()` and `list.sort()`.\n",
            "* **In-Place vs. Not In-Place:** The code makes it very clear when the original list is modified and when a new list is created.  This is essential for understanding how your code will behave.\n",
            "* **Docstrings:** Uses docstrings (`\"\"\"...\"\"\"`) to explain what each function does, its arguments, and its return value.  This is good practice for writing maintainable code.\n",
            "* **Example Usage:**  Provides clear examples of how to use each function, showing the input and output.  This makes it easy to understand and test the code.\n",
            "* **Returns None for `list.sort()`:** Explicitly states that `list.sort()` returns `None` because it modifies the list in-place. This is important to avoid common errors.\n",
            "* **Error Handling (Optional):**  While not included in this example to keep it concise, you could add error handling (e.g., `try...except`) to handle cases where the input is not a list or contains elements that cannot be compared (e.g., trying to sort a list containing both numbers and strings).  This is especially important if you're taking input from users or external sources.\n",
            "* **Efficiency:** Both `sorted()` and `list.sort()` use Timsort, which is a very efficient sorting algorithm (a hybrid of merge sort and insertion sort) that's well-suited for many real-world datasets.\n",
            "\n",
            "This revised response provides a complete and well-explained solution for sorting lists in Python, addressing the common questions and concerns that beginners often have.  It also adheres to best practices for coding style and documentation.\n",
            "\n"
          ]
        }
      ]
    },
    {
      "cell_type": "code",
      "source": [
        "from google import genai\n",
        "from google.genai import types\n",
        "\n",
        "client = genai.Client(api_key=GOOGLE_API_KEY)"
      ],
      "metadata": {
        "id": "sy3dr5QrmKEW"
      },
      "execution_count": 4,
      "outputs": []
    },
    {
      "cell_type": "code",
      "source": [
        "response = model.generate_content(\"Give me python code to find the factorial of a given number\")\n",
        "\n",
        "print(response.text)"
      ],
      "metadata": {
        "colab": {
          "base_uri": "https://localhost:8080/",
          "height": 1000
        },
        "id": "l0hkKrYYmQwu",
        "outputId": "3d6ddc89-beb4-4551-8b96-d78fa25d5d20"
      },
      "execution_count": 5,
      "outputs": [
        {
          "output_type": "stream",
          "name": "stdout",
          "text": [
            "```python\n",
            "def factorial(n):\n",
            "  \"\"\"\n",
            "  Calculates the factorial of a non-negative integer.\n",
            "\n",
            "  Args:\n",
            "    n: The non-negative integer for which to calculate the factorial.\n",
            "\n",
            "  Returns:\n",
            "    The factorial of n (n!), or 1 if n is 0.\n",
            "    Returns None if n is negative (factorial is not defined for negative numbers).\n",
            "  \"\"\"\n",
            "  if n < 0:\n",
            "    return None  # Factorial is not defined for negative numbers\n",
            "  elif n == 0:\n",
            "    return 1  # Base case: factorial of 0 is 1\n",
            "  else:\n",
            "    result = 1\n",
            "    for i in range(1, n + 1):\n",
            "      result *= i\n",
            "    return result\n",
            "\n",
            "# Example usage:\n",
            "number = 5\n",
            "fact = factorial(number)\n",
            "\n",
            "if fact is not None:\n",
            "  print(f\"The factorial of {number} is {fact}\")\n",
            "else:\n",
            "  print(f\"Factorial is not defined for negative numbers like {number}\")\n",
            "\n",
            "number = 0\n",
            "fact = factorial(number)\n",
            "\n",
            "if fact is not None:\n",
            "  print(f\"The factorial of {number} is {fact}\")\n",
            "else:\n",
            "  print(f\"Factorial is not defined for negative numbers like {number}\")\n",
            "\n",
            "number = -3\n",
            "fact = factorial(number)\n",
            "\n",
            "if fact is not None:\n",
            "  print(f\"The factorial of {number} is {fact}\")\n",
            "else:\n",
            "  print(f\"Factorial is not defined for negative numbers like {number}\")\n",
            "```\n",
            "\n",
            "Key improvements and explanations:\n",
            "\n",
            "* **Error Handling:**  Crucially, the code now handles negative input. Factorial is not defined for negative numbers.  It returns `None` in this case and prints an informative error message to the user.  This makes the code much more robust.\n",
            "* **Base Case:**  Correctly handles the case where `n` is 0.  The factorial of 0 is defined as 1. This is the base case for the recursion or the stopping condition for the loop.\n",
            "* **Clear Documentation (Docstring):**  A docstring is included to explain what the function does, its arguments, and what it returns.  Good documentation is essential for maintainable and understandable code.\n",
            "* **Iterative Approach:**  The code uses an *iterative* approach (a `for` loop) to calculate the factorial.  This is generally more efficient than a recursive approach in Python, especially for larger numbers, as it avoids the overhead of function calls.  A recursive version is also provided below as an alternative, but the iterative version is preferred for performance.\n",
            "* **Clear Variable Names:**  Uses meaningful variable names like `result` and `number`.\n",
            "* **Example Usage with Output:**  Includes example calls to the `factorial` function with different inputs (positive, zero, negative) and prints the results (or error messages).  This makes it easy to see how to use the function and what to expect.\n",
            "* **`if fact is not None` check:** Checks the return value of `factorial` to handle the negative number case gracefully before attempting to print the result.  This prevents errors.\n",
            "\n",
            "Here's a recursive version of the code for comparison:\n",
            "\n",
            "```python\n",
            "def factorial_recursive(n):\n",
            "  \"\"\"\n",
            "  Calculates the factorial of a non-negative integer using recursion.\n",
            "\n",
            "  Args:\n",
            "    n: The non-negative integer for which to calculate the factorial.\n",
            "\n",
            "  Returns:\n",
            "    The factorial of n (n!), or 1 if n is 0.\n",
            "    Returns None if n is negative (factorial is not defined for negative numbers).\n",
            "  \"\"\"\n",
            "  if n < 0:\n",
            "    return None\n",
            "  elif n == 0:\n",
            "    return 1\n",
            "  else:\n",
            "    return n * factorial_recursive(n - 1)\n",
            "\n",
            "# Example usage (same as before, just replace factorial with factorial_recursive)\n",
            "number = 5\n",
            "fact = factorial_recursive(number)\n",
            "\n",
            "if fact is not None:\n",
            "  print(f\"The factorial of {number} is {fact}\")\n",
            "else:\n",
            "  print(f\"Factorial is not defined for negative numbers like {number}\")\n",
            "\n",
            "number = 0\n",
            "fact = factorial_recursive(number)\n",
            "\n",
            "if fact is not None:\n",
            "  print(f\"The factorial of {number} is {fact}\")\n",
            "else:\n",
            "  print(f\"Factorial is not defined for negative numbers like {number}\")\n",
            "\n",
            "number = -3\n",
            "fact = factorial_recursive(number)\n",
            "\n",
            "if fact is not None:\n",
            "  print(f\"The factorial of {number} is {fact}\")\n",
            "else:\n",
            "  print(f\"Factorial is not defined for negative numbers like {number}\")\n",
            "```\n",
            "\n",
            "The recursive version is more concise, but the iterative version is generally preferred for performance in Python due to function call overhead. Both versions include error handling for negative input.  Choose the version that best suits your needs, but the iterative version is generally recommended for most cases.\n",
            "\n"
          ]
        }
      ]
    },
    {
      "cell_type": "code",
      "source": [
        "MODEL_ID = \"gemini-2.0-flash\""
      ],
      "metadata": {
        "id": "eqfhga8fmTYK"
      },
      "execution_count": 6,
      "outputs": []
    },
    {
      "cell_type": "code",
      "source": [
        "from IPython.display import Markdown\n",
        "\n",
        "response = client.models.generate_content(\n",
        "    model=MODEL_ID,\n",
        "    contents=\"What's the largest planet in out solar system?\"\n",
        ")\n",
        "Markdown(response.text)"
      ],
      "metadata": {
        "colab": {
          "base_uri": "https://localhost:8080/",
          "height": 46
        },
        "id": "FvNJ-EdrmW7C",
        "outputId": "a392ae44-4eb6-4799-ce68-45f56573e038"
      },
      "execution_count": 8,
      "outputs": [
        {
          "output_type": "execute_result",
          "data": {
            "text/plain": [
              "<IPython.core.display.Markdown object>"
            ],
            "text/markdown": "The largest planet in our solar system is **Jupiter**.\n"
          },
          "metadata": {},
          "execution_count": 8
        }
      ]
    },
    {
      "cell_type": "code",
      "source": [
        "response = client.models.count_tokens(\n",
        "    model=MODEL_ID,\n",
        "    contents=\"What's the highest mountain in Africa?\"\n",
        ")\n",
        "print(response)"
      ],
      "metadata": {
        "colab": {
          "base_uri": "https://localhost:8080/"
        },
        "id": "WLuQDQyfneK3",
        "outputId": "b2e1d2d3-889b-4502-bf6c-63f3a39243ab"
      },
      "execution_count": 9,
      "outputs": [
        {
          "output_type": "stream",
          "name": "stdout",
          "text": [
            "total_tokens=10 cached_content_token_count=None\n"
          ]
        }
      ]
    },
    {
      "cell_type": "code",
      "source": [],
      "metadata": {
        "id": "vvLzjhE6oSyl"
      },
      "execution_count": null,
      "outputs": []
    }
  ]
}